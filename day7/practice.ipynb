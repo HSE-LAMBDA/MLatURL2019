{
  "cells": [
    {
      "cell_type": "markdown",
      "source": [
        "## Practice"
      ],
      "metadata": {}
    },
    {
      "cell_type": "markdown",
      "source": [
        "### Exercise 1. \n",
        "Load MNIST dataset using torchvision.datasets into train/test numpy arrays. Display image of every digit."
      ],
      "metadata": {}
    },
    {
      "cell_type": "markdown",
      "source": [
        "### Exercise 2. \n",
        "Build NN of the following structure:\n",
        "- Linear Layer\n",
        "- ELU\n",
        "- Linear Layer"
      ],
      "metadata": {}
    },
    {
      "cell_type": "markdown",
      "source": [
        "### Exercise 3.\n",
        "Train NN. Compute loss function and accuracy. "
      ],
      "metadata": {}
    },
    {
      "cell_type": "markdown",
      "source": [
        "### Exercise 4. \n",
        "Change the training code to use COMET.ML, save loss/accuracy there.\n",
        "(https://www.comet.ml/)"
      ],
      "metadata": {}
    },
    {
      "cell_type": "markdown",
      "source": [
        "### Exercise 5.\n",
        "Update NN to use convolutional layers - at least one Conv2d and one MaxPool. Train it. Save output to COMET.ML"
      ],
      "metadata": {}
    },
    {
      "cell_type": "markdown",
      "source": [
        "### Exercise 6. \n",
        "Evaluate trained filters of your convolutional layer using https://towardsdatascience.com/understanding-convolutional-neural-networks-through-visualizations-in-pytorch-b5444de08b91"
      ],
      "metadata": {}
    },
    {
      "cell_type": "code",
      "source": [],
      "outputs": [],
      "execution_count": null,
      "metadata": {
        "collapsed": false,
        "outputHidden": false,
        "inputHidden": false
      }
    }
  ],
  "metadata": {
    "kernel_info": {
      "name": "python3"
    },
    "language_info": {
      "pygments_lexer": "ipython3",
      "mimetype": "text/x-python",
      "name": "python",
      "codemirror_mode": {
        "version": 3,
        "name": "ipython"
      },
      "file_extension": ".py",
      "nbconvert_exporter": "python",
      "version": "3.5.2"
    },
    "kernelspec": {
      "name": "python3",
      "language": "python",
      "display_name": "Python 3"
    },
    "nteract": {
      "version": "0.12.3"
    }
  },
  "nbformat": 4,
  "nbformat_minor": 4
}
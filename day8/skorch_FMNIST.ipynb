{
  "nbformat": 4,
  "nbformat_minor": 0,
  "metadata": {
    "colab": {
      "name": "pytorch_FMNIST.ipynb",
      "version": "0.3.2",
      "provenance": [],
      "collapsed_sections": []
    },
    "kernelspec": {
      "name": "python3",
      "display_name": "Python 3"
    },
    "accelerator": "GPU"
  },
  "cells": [
    {
      "metadata": {
        "id": "Wt5093K8qpJU",
        "colab_type": "code",
        "colab": {
          "base_uri": "https://localhost:8080/",
          "height": 181
        },
        "outputId": "05a22bd2-b485-4ba1-9e03-5cb5c3371f2b"
      },
      "cell_type": "code",
      "source": [
        "!pip install scikit-optimize"
      ],
      "execution_count": 2,
      "outputs": [
        {
          "output_type": "stream",
          "text": [
            "Collecting scikit-optimize\n",
            "\u001b[?25l  Downloading https://files.pythonhosted.org/packages/f4/44/60f82c97d1caa98752c7da2c1681cab5c7a390a0fdd3a55fac672b321cac/scikit_optimize-0.5.2-py2.py3-none-any.whl (74kB)\n",
            "\r\u001b[K    13% |████▍                           | 10kB 14.9MB/s eta 0:00:01\r\u001b[K    27% |████████▉                       | 20kB 1.8MB/s eta 0:00:01\r\u001b[K    41% |█████████████▏                  | 30kB 2.4MB/s eta 0:00:01\r\u001b[K    54% |█████████████████▋              | 40kB 1.7MB/s eta 0:00:01\r\u001b[K    68% |██████████████████████          | 51kB 2.1MB/s eta 0:00:01\r\u001b[K    82% |██████████████████████████▍     | 61kB 2.5MB/s eta 0:00:01\r\u001b[K    96% |██████████████████████████████▊ | 71kB 2.9MB/s eta 0:00:01\r\u001b[K    100% |████████████████████████████████| 81kB 3.1MB/s \n",
            "\u001b[?25hRequirement already satisfied: numpy in /usr/local/lib/python3.6/dist-packages (from scikit-optimize) (1.14.6)\n",
            "Requirement already satisfied: scipy>=0.14.0 in /usr/local/lib/python3.6/dist-packages (from scikit-optimize) (1.1.0)\n",
            "Requirement already satisfied: scikit-learn>=0.19.1 in /usr/local/lib/python3.6/dist-packages (from scikit-optimize) (0.20.3)\n",
            "Installing collected packages: scikit-optimize\n",
            "Successfully installed scikit-optimize-0.5.2\n"
          ],
          "name": "stdout"
        }
      ]
    },
    {
      "metadata": {
        "id": "n6d98zVNZeO6",
        "colab_type": "code",
        "outputId": "ed769ff5-48aa-42cf-b479-b44b0d4b09bb",
        "colab": {
          "base_uri": "https://localhost:8080/",
          "height": 882
        }
      },
      "cell_type": "code",
      "source": [
        "!pip install comet_ml\n",
        "!pip install urllib==1.34\n"
      ],
      "execution_count": 3,
      "outputs": [
        {
          "output_type": "stream",
          "text": [
            "Collecting comet_ml\n",
            "\u001b[?25l  Downloading https://files.pythonhosted.org/packages/52/1d/d87dafba628f7b23a10fd953be0730eafa1570d3765a24488128901e1572/comet_ml-1.0.49-py3-none-any.whl (91kB)\n",
            "\u001b[K    100% |████████████████████████████████| 92kB 3.5MB/s \n",
            "\u001b[?25hCollecting websocket-client>=0.55.0 (from comet_ml)\n",
            "\u001b[?25l  Downloading https://files.pythonhosted.org/packages/29/19/44753eab1fdb50770ac69605527e8859468f3c0fd7dc5a76dd9c4dbd7906/websocket_client-0.56.0-py2.py3-none-any.whl (200kB)\n",
            "\u001b[K    100% |████████████████████████████████| 204kB 25.6MB/s \n",
            "\u001b[?25hCollecting wurlitzer>=1.0.2 (from comet_ml)\n",
            "  Downloading https://files.pythonhosted.org/packages/60/17/de2820542c755f4630a58d295daad86bfa981fbf48b48e5f9e1f2ed806cc/wurlitzer-1.0.2-py2.py3-none-any.whl\n",
            "Collecting everett[ini]>=1.0.1; python_version >= \"3.0\" (from comet_ml)\n",
            "  Downloading https://files.pythonhosted.org/packages/12/34/de70a3d913411e40ce84966f085b5da0c6df741e28c86721114dd290aaa0/everett-1.0.2-py2.py3-none-any.whl\n",
            "Requirement already satisfied: jsonschema>=2.6.0 in /usr/local/lib/python3.6/dist-packages (from comet_ml) (2.6.0)\n",
            "Collecting comet-git-pure>=0.19.11 (from comet_ml)\n",
            "\u001b[?25l  Downloading https://files.pythonhosted.org/packages/48/ae/a3d9b28e1d909bddbdba8ef7c331542614f3bf9fbba31bd4380c3294c569/comet_git_pure-0.19.11-py3-none-any.whl (383kB)\n",
            "\u001b[K    100% |████████████████████████████████| 389kB 26.0MB/s \n",
            "\u001b[?25hRequirement already satisfied: six in /usr/local/lib/python3.6/dist-packages (from comet_ml) (1.11.0)\n",
            "Requirement already satisfied: requests>=2.18.4 in /usr/local/lib/python3.6/dist-packages (from comet_ml) (2.18.4)\n",
            "Collecting netifaces>=0.10.7 (from comet_ml)\n",
            "  Downloading https://files.pythonhosted.org/packages/0c/9b/c4c7eb09189548d45939a3d3a6b3d53979c67d124459b27a094c365c347f/netifaces-0.10.9-cp36-cp36m-manylinux1_x86_64.whl\n",
            "Requirement already satisfied: nvidia-ml-py3>=7.352.0 in /usr/local/lib/python3.6/dist-packages (from comet_ml) (7.352.0)\n",
            "Collecting configobj; extra == \"ini\" (from everett[ini]>=1.0.1; python_version >= \"3.0\"->comet_ml)\n",
            "  Downloading https://files.pythonhosted.org/packages/64/61/079eb60459c44929e684fa7d9e2fdca403f67d64dd9dbac27296be2e0fab/configobj-5.0.6.tar.gz\n",
            "Collecting urllib3>=1.23 (from comet-git-pure>=0.19.11->comet_ml)\n",
            "\u001b[?25l  Downloading https://files.pythonhosted.org/packages/62/00/ee1d7de624db8ba7090d1226aebefab96a2c71cd5cfa7629d6ad3f61b79e/urllib3-1.24.1-py2.py3-none-any.whl (118kB)\n",
            "\u001b[K    100% |████████████████████████████████| 122kB 27.5MB/s \n",
            "\u001b[?25hRequirement already satisfied: certifi in /usr/local/lib/python3.6/dist-packages (from comet-git-pure>=0.19.11->comet_ml) (2019.3.9)\n",
            "Requirement already satisfied: idna<2.7,>=2.5 in /usr/local/lib/python3.6/dist-packages (from requests>=2.18.4->comet_ml) (2.6)\n",
            "Requirement already satisfied: chardet<3.1.0,>=3.0.2 in /usr/local/lib/python3.6/dist-packages (from requests>=2.18.4->comet_ml) (3.0.4)\n",
            "Building wheels for collected packages: configobj\n",
            "  Building wheel for configobj (setup.py) ... \u001b[?25ldone\n",
            "\u001b[?25h  Stored in directory: /root/.cache/pip/wheels/f1/e4/16/4981ca97c2d65106b49861e0b35e2660695be7219a2d351ee0\n",
            "Successfully built configobj\n",
            "\u001b[31mrequests 2.18.4 has requirement urllib3<1.23,>=1.21.1, but you'll have urllib3 1.24.1 which is incompatible.\u001b[0m\n",
            "\u001b[31mfastai 1.0.49 has requirement numpy>=1.15, but you'll have numpy 1.14.6 which is incompatible.\u001b[0m\n",
            "\u001b[31mdatascience 0.10.6 has requirement folium==0.2.1, but you'll have folium 0.8.3 which is incompatible.\u001b[0m\n",
            "Installing collected packages: websocket-client, wurlitzer, configobj, everett, urllib3, comet-git-pure, netifaces, comet-ml\n",
            "  Found existing installation: urllib3 1.22\n",
            "    Uninstalling urllib3-1.22:\n",
            "      Successfully uninstalled urllib3-1.22\n",
            "Successfully installed comet-git-pure-0.19.11 comet-ml-1.0.49 configobj-5.0.6 everett-1.0.2 netifaces-0.10.9 urllib3-1.24.1 websocket-client-0.56.0 wurlitzer-1.0.2\n"
          ],
          "name": "stdout"
        },
        {
          "output_type": "display_data",
          "data": {
            "application/vnd.colab-display-data+json": {
              "pip_warning": {
                "packages": [
                  "urllib3"
                ]
              }
            }
          },
          "metadata": {
            "tags": []
          }
        },
        {
          "output_type": "stream",
          "text": [
            "Collecting urllib==1.34\n",
            "\u001b[31m  Could not find a version that satisfies the requirement urllib==1.34 (from versions: )\u001b[0m\n",
            "\u001b[31mNo matching distribution found for urllib==1.34\u001b[0m\n"
          ],
          "name": "stdout"
        }
      ]
    },
    {
      "metadata": {
        "id": "jzd3YU7IvOSM",
        "colab_type": "code",
        "colab": {
          "base_uri": "https://localhost:8080/",
          "height": 217
        },
        "outputId": "b90b4fa1-3641-44ae-9839-dfd506d0e8cc"
      },
      "cell_type": "code",
      "source": [
        "!pip install skorch"
      ],
      "execution_count": 1,
      "outputs": [
        {
          "output_type": "stream",
          "text": [
            "Collecting skorch\n",
            "\u001b[?25l  Downloading https://files.pythonhosted.org/packages/87/3a/b7598ff2f317194c98212cc602d395d46eab60e0c8d4f45876a35f5ffe2e/skorch-0.5.0.post0-py3-none-any.whl (99kB)\n",
            "\u001b[K    100% |████████████████████████████████| 102kB 2.7MB/s \n",
            "\u001b[?25hRequirement already satisfied: scikit-learn>=0.19.1 in /usr/local/lib/python3.6/dist-packages (from skorch) (0.20.3)\n",
            "Requirement already satisfied: tabulate>=0.7.7 in /usr/local/lib/python3.6/dist-packages (from skorch) (0.8.3)\n",
            "Requirement already satisfied: tqdm>=4.14.0 in /usr/local/lib/python3.6/dist-packages (from skorch) (4.28.1)\n",
            "Requirement already satisfied: numpy>=1.13.3 in /usr/local/lib/python3.6/dist-packages (from skorch) (1.14.6)\n",
            "Requirement already satisfied: scipy>=1.1.0 in /usr/local/lib/python3.6/dist-packages (from skorch) (1.1.0)\n",
            "Installing collected packages: skorch\n",
            "Successfully installed skorch-0.5.0.post0\n"
          ],
          "name": "stdout"
        }
      ]
    },
    {
      "metadata": {
        "id": "k2Ze4ExpdDr4",
        "colab_type": "code",
        "colab": {}
      },
      "cell_type": "code",
      "source": [
        "from comet_ml import Experiment"
      ],
      "execution_count": 0,
      "outputs": []
    },
    {
      "metadata": {
        "colab_type": "code",
        "outputId": "698ff0a5-d1c1-4259-be46-f2b52d9ab16e",
        "id": "Idrj-_DU2nfT",
        "colab": {
          "base_uri": "https://localhost:8080/",
          "height": 35
        }
      },
      "cell_type": "code",
      "source": [
        "import numpy as np\n",
        "import matplotlib.pyplot as plt\n",
        "%matplotlib inline\n",
        "import torch\n",
        "print(torch.__version__)"
      ],
      "execution_count": 2,
      "outputs": [
        {
          "output_type": "stream",
          "text": [
            "1.0.1.post2\n"
          ],
          "name": "stdout"
        }
      ]
    },
    {
      "metadata": {
        "id": "QjrsEoVl6gm5",
        "colab_type": "text"
      },
      "cell_type": "markdown",
      "source": [
        "## Fashion MINST dataset\n"
      ]
    },
    {
      "metadata": {
        "id": "6usBsSGi6k6u",
        "colab_type": "code",
        "colab": {}
      },
      "cell_type": "code",
      "source": [
        "from torchvision.datasets import FashionMNIST"
      ],
      "execution_count": 0,
      "outputs": []
    },
    {
      "metadata": {
        "id": "r49OsLdH6yRo",
        "colab_type": "code",
        "outputId": "7320b9e4-d316-4032-eeb3-37de8e5d0d8a",
        "colab": {
          "base_uri": "https://localhost:8080/",
          "height": 161
        }
      },
      "cell_type": "code",
      "source": [
        "# Getting the train and test parts of the dataset\n",
        "data_train = FashionMNIST(\"FashionMNIST/\",\n",
        "                          download=True,\n",
        "                          train=True)\n",
        "\n",
        "data_test = FashionMNIST(\"FashionMNIST/\",\n",
        "                          download=True,\n",
        "                          train=False)\n",
        "\n",
        "# In fact, it's already stored as torch tensor, but we'll need\n",
        "# to work with the numpy representation, so let's do the convertion:\n",
        "X_train = data_train.train_data.numpy()\n",
        "y_train = data_train.train_labels.numpy()\n",
        "\n",
        "X_test = data_test.test_data.numpy()\n",
        "y_test = data_test.test_labels.numpy()\n"
      ],
      "execution_count": 6,
      "outputs": [
        {
          "output_type": "stream",
          "text": [
            "/usr/local/lib/python3.6/dist-packages/torchvision/datasets/mnist.py:53: UserWarning: train_data has been renamed data\n",
            "  warnings.warn(\"train_data has been renamed data\")\n",
            "/usr/local/lib/python3.6/dist-packages/torchvision/datasets/mnist.py:43: UserWarning: train_labels has been renamed targets\n",
            "  warnings.warn(\"train_labels has been renamed targets\")\n",
            "/usr/local/lib/python3.6/dist-packages/torchvision/datasets/mnist.py:58: UserWarning: test_data has been renamed data\n",
            "  warnings.warn(\"test_data has been renamed data\")\n",
            "/usr/local/lib/python3.6/dist-packages/torchvision/datasets/mnist.py:48: UserWarning: test_labels has been renamed targets\n",
            "  warnings.warn(\"test_labels has been renamed targets\")\n"
          ],
          "name": "stderr"
        }
      ]
    },
    {
      "metadata": {
        "id": "9Yb2rK_gyTKu",
        "colab_type": "code",
        "colab": {}
      },
      "cell_type": "code",
      "source": [
        ""
      ],
      "execution_count": 0,
      "outputs": []
    },
    {
      "metadata": {
        "id": "p-VvVjxj8IEk",
        "colab_type": "text"
      },
      "cell_type": "markdown",
      "source": [
        "The datasets consists of images belonging to one out of 10 classes:\n",
        "\n",
        "| Label | Description | | Label | Description |\n",
        "| ---       \n",
        "| 0        | T-shirt/top   || 5        | Sandal         |\n",
        "| 1        | Trouser        || 6        | Shirt             |\n",
        "| 2        | Pullover       || 7        | Sneaker       |\n",
        "| 3        | Dress           || 8        | Bag              |\n",
        "| 4        | Coat             || 9        | Ankle boot  |\n",
        "\n",
        "\n",
        "\n",
        "\n"
      ]
    },
    {
      "metadata": {
        "id": "gSPYLKzJAgzO",
        "colab_type": "text"
      },
      "cell_type": "markdown",
      "source": [
        "### Input preprocessing"
      ]
    },
    {
      "metadata": {
        "id": "Vl-0UxIJxTkn",
        "colab_type": "text"
      },
      "cell_type": "markdown",
      "source": [
        "So far our data is held as numpy arrays of unsigned byte type, i.e. it lies within a range from 0 to 255. Also, the shape of our input is 3-dimensional (num_images, height, width), while our `model` takes 2-dimensional \"arrays of 1-dimensional images\" (num_images, height * width)."
      ]
    },
    {
      "metadata": {
        "id": "XF2nptPHx3-g",
        "colab_type": "text"
      },
      "cell_type": "markdown",
      "source": [
        "We have to convert that to `torch` tensors and reshape the input. Also, it's a good idea to normalize your image data to lie within a $[0, 1]$ interval. Let's write a function that does all these things:"
      ]
    },
    {
      "metadata": {
        "id": "TMiuBEH42Hso",
        "colab_type": "code",
        "colab": {}
      },
      "cell_type": "code",
      "source": [
        "# Write a function to convert X and y to torch tensors while\n",
        "# rescaling X to fit into [0, 1] interval and reshaping it properly\n",
        "\n",
        "# Hint: make sure your input tensor dtype is same as the\n",
        "# parameters of the model (should be torch.float)\n",
        "\n",
        "def preprocess_data(X, y):\n",
        "  X_preprocessed = torch.reshape(torch.from_numpy(X/ 255.).type(torch.float32), (-1, 784))\n",
        "  y_preprocessed = torch.from_numpy(y)\n",
        "  return X_preprocessed, y_preprocessed"
      ],
      "execution_count": 0,
      "outputs": []
    },
    {
      "metadata": {
        "id": "aoMgoEh7cEgU",
        "colab_type": "code",
        "colab": {}
      },
      "cell_type": "code",
      "source": [
        "import torch.nn.functional as F"
      ],
      "execution_count": 0,
      "outputs": []
    },
    {
      "metadata": {
        "id": "O_RWnDFMyjSg",
        "colab_type": "code",
        "colab": {}
      },
      "cell_type": "code",
      "source": [
        "torch.manual_seed(0);\n",
        "device = 'cuda' if torch.cuda.is_available() else 'cpu'"
      ],
      "execution_count": 0,
      "outputs": []
    },
    {
      "metadata": {
        "id": "YBiUj_uQymga",
        "colab_type": "code",
        "colab": {
          "base_uri": "https://localhost:8080/",
          "height": 224
        },
        "outputId": "138a64cf-fae1-4452-f1ed-dacdd1b788ff"
      },
      "cell_type": "code",
      "source": [
        "X_train, y_train = preprocess_data(X_train, y_train)\n"
      ],
      "execution_count": 18,
      "outputs": [
        {
          "output_type": "error",
          "ename": "IndexError",
          "evalue": "ignored",
          "traceback": [
            "\u001b[0;31m---------------------------------------------------------------------------\u001b[0m",
            "\u001b[0;31mIndexError\u001b[0m                                Traceback (most recent call last)",
            "\u001b[0;32m<ipython-input-18-cff8f7324f08>\u001b[0m in \u001b[0;36m<module>\u001b[0;34m()\u001b[0m\n\u001b[1;32m      1\u001b[0m \u001b[0mX_train\u001b[0m\u001b[0;34m,\u001b[0m \u001b[0my_train\u001b[0m \u001b[0;34m=\u001b[0m \u001b[0mpreprocess_data\u001b[0m\u001b[0;34m(\u001b[0m\u001b[0mX_train\u001b[0m\u001b[0;34m,\u001b[0m \u001b[0my_train\u001b[0m\u001b[0;34m)\u001b[0m\u001b[0;34m\u001b[0m\u001b[0;34m\u001b[0m\u001b[0m\n\u001b[0;32m----> 2\u001b[0;31m \u001b[0mmnist_dim\u001b[0m \u001b[0;34m=\u001b[0m \u001b[0mX_train\u001b[0m\u001b[0;34m.\u001b[0m\u001b[0mshape\u001b[0m\u001b[0;34m[\u001b[0m\u001b[0;36m1\u001b[0m\u001b[0;34m]\u001b[0m \u001b[0;34m*\u001b[0m \u001b[0mX_train\u001b[0m\u001b[0;34m.\u001b[0m\u001b[0mshape\u001b[0m\u001b[0;34m[\u001b[0m\u001b[0;36m2\u001b[0m\u001b[0;34m]\u001b[0m\u001b[0;34m\u001b[0m\u001b[0;34m\u001b[0m\u001b[0m\n\u001b[0m\u001b[1;32m      3\u001b[0m \u001b[0mhidden_dim\u001b[0m \u001b[0;34m=\u001b[0m \u001b[0mint\u001b[0m\u001b[0;34m(\u001b[0m\u001b[0mmnist_dim\u001b[0m\u001b[0;34m/\u001b[0m\u001b[0;36m8\u001b[0m\u001b[0;34m)\u001b[0m\u001b[0;34m\u001b[0m\u001b[0;34m\u001b[0m\u001b[0m\n\u001b[1;32m      4\u001b[0m \u001b[0moutput_dim\u001b[0m \u001b[0;34m=\u001b[0m \u001b[0mlen\u001b[0m\u001b[0;34m(\u001b[0m\u001b[0mnp\u001b[0m\u001b[0;34m.\u001b[0m\u001b[0munique\u001b[0m\u001b[0;34m(\u001b[0m\u001b[0my_train\u001b[0m\u001b[0;34m)\u001b[0m\u001b[0;34m)\u001b[0m\u001b[0;34m\u001b[0m\u001b[0;34m\u001b[0m\u001b[0m\n",
            "\u001b[0;31mIndexError\u001b[0m: tuple index out of range"
          ]
        }
      ]
    },
    {
      "metadata": {
        "id": "yj1R2hsfzcOG",
        "colab_type": "code",
        "colab": {}
      },
      "cell_type": "code",
      "source": [
        "mnist_dim = X_train.shape[1]\n",
        "hidden_dim = int(mnist_dim/8)\n",
        "output_dim = len(np.unique(y_train))"
      ],
      "execution_count": 0,
      "outputs": []
    },
    {
      "metadata": {
        "id": "m6QMKs8Yyye4",
        "colab_type": "code",
        "colab": {
          "base_uri": "https://localhost:8080/",
          "height": 35
        },
        "outputId": "ae8e59ce-8ba7-43c0-cb4e-f1587b04087e"
      },
      "cell_type": "code",
      "source": [
        "\n",
        "mnist_dim, hidden_dim, output_dim"
      ],
      "execution_count": 20,
      "outputs": [
        {
          "output_type": "execute_result",
          "data": {
            "text/plain": [
              "(784, 98, 10)"
            ]
          },
          "metadata": {
            "tags": []
          },
          "execution_count": 20
        }
      ]
    },
    {
      "metadata": {
        "id": "T_WN3uZ4y0x5",
        "colab_type": "code",
        "colab": {}
      },
      "cell_type": "code",
      "source": [
        "from torch import nn\n",
        "\n",
        "class ClassifierModule(nn.Module):\n",
        "    def __init__(\n",
        "            self,\n",
        "            input_dim=mnist_dim,\n",
        "            hidden_dim=hidden_dim,\n",
        "            output_dim=output_dim,\n",
        "            dropout=0.5,\n",
        "    ):\n",
        "        super(ClassifierModule, self).__init__()\n",
        "        self.dropout = nn.Dropout(dropout)\n",
        "\n",
        "        self.hidden = nn.Linear(input_dim, hidden_dim)\n",
        "        self.output = nn.Linear(hidden_dim, output_dim)\n",
        "\n",
        "    def forward(self, X, **kwargs):\n",
        "        X = F.relu(self.hidden(X))\n",
        "        X = self.dropout(X)\n",
        "        X = F.softmax(self.output(X), dim=-1)\n",
        "        return X"
      ],
      "execution_count": 0,
      "outputs": []
    },
    {
      "metadata": {
        "id": "7KRdn9i1ziv-",
        "colab_type": "code",
        "colab": {}
      },
      "cell_type": "code",
      "source": [
        "from skorch import NeuralNetClassifier\n",
        "net = NeuralNetClassifier(\n",
        "    ClassifierModule,\n",
        "    max_epochs=20,\n",
        "    lr=0.1,\n",
        "    device=device,\n",
        ")"
      ],
      "execution_count": 0,
      "outputs": []
    },
    {
      "metadata": {
        "id": "WI7LdnJK0SAX",
        "colab_type": "code",
        "colab": {
          "base_uri": "https://localhost:8080/",
          "height": 413
        },
        "outputId": "5c56f914-6439-4ba7-a7a9-8962c283a247"
      },
      "cell_type": "code",
      "source": [
        "net.fit(X_train, y_train);"
      ],
      "execution_count": 24,
      "outputs": [
        {
          "output_type": "stream",
          "text": [
            "  epoch    train_loss    valid_acc    valid_loss     dur\n",
            "-------  ------------  -----------  ------------  ------\n",
            "      1        \u001b[36m0.8887\u001b[0m       \u001b[32m0.8020\u001b[0m        \u001b[35m0.5681\u001b[0m  1.3593\n",
            "      2        \u001b[36m0.5982\u001b[0m       \u001b[32m0.8290\u001b[0m        \u001b[35m0.4875\u001b[0m  1.2904\n",
            "      3        \u001b[36m0.5352\u001b[0m       \u001b[32m0.8388\u001b[0m        \u001b[35m0.4517\u001b[0m  1.2468\n",
            "      4        \u001b[36m0.4983\u001b[0m       \u001b[32m0.8489\u001b[0m        \u001b[35m0.4240\u001b[0m  1.2428\n",
            "      5        \u001b[36m0.4802\u001b[0m       0.8487        \u001b[35m0.4160\u001b[0m  1.2545\n",
            "      6        \u001b[36m0.4621\u001b[0m       \u001b[32m0.8591\u001b[0m        \u001b[35m0.3960\u001b[0m  1.2390\n",
            "      7        \u001b[36m0.4518\u001b[0m       \u001b[32m0.8601\u001b[0m        \u001b[35m0.3869\u001b[0m  1.2682\n",
            "      8        \u001b[36m0.4414\u001b[0m       \u001b[32m0.8643\u001b[0m        \u001b[35m0.3811\u001b[0m  1.2680\n",
            "      9        \u001b[36m0.4336\u001b[0m       0.8639        \u001b[35m0.3765\u001b[0m  1.2762\n",
            "     10        \u001b[36m0.4241\u001b[0m       \u001b[32m0.8660\u001b[0m        \u001b[35m0.3703\u001b[0m  1.2779\n",
            "     11        \u001b[36m0.4178\u001b[0m       \u001b[32m0.8662\u001b[0m        \u001b[35m0.3654\u001b[0m  1.2374\n",
            "     12        \u001b[36m0.4145\u001b[0m       \u001b[32m0.8691\u001b[0m        \u001b[35m0.3620\u001b[0m  1.2410\n",
            "     13        \u001b[36m0.4084\u001b[0m       0.8691        \u001b[35m0.3614\u001b[0m  1.2410\n",
            "     14        \u001b[36m0.4035\u001b[0m       \u001b[32m0.8694\u001b[0m        \u001b[35m0.3589\u001b[0m  1.2362\n",
            "     15        \u001b[36m0.3989\u001b[0m       \u001b[32m0.8698\u001b[0m        \u001b[35m0.3569\u001b[0m  1.2516\n",
            "     16        \u001b[36m0.3950\u001b[0m       0.8691        \u001b[35m0.3550\u001b[0m  1.2459\n",
            "     17        \u001b[36m0.3909\u001b[0m       \u001b[32m0.8742\u001b[0m        \u001b[35m0.3488\u001b[0m  1.2383\n",
            "     18        \u001b[36m0.3887\u001b[0m       0.8691        0.3527  1.2363\n",
            "     19        \u001b[36m0.3827\u001b[0m       0.8722        \u001b[35m0.3461\u001b[0m  1.2438\n",
            "     20        \u001b[36m0.3811\u001b[0m       0.8711        0.3478  1.2543\n"
          ],
          "name": "stdout"
        }
      ]
    },
    {
      "metadata": {
        "id": "JSaAD5j90fPE",
        "colab_type": "code",
        "colab": {}
      },
      "cell_type": "code",
      "source": [
        "X_test, y_test = preprocess_data(X_test, y_test)\n",
        "predicted = net.predict(X_test)"
      ],
      "execution_count": 0,
      "outputs": []
    },
    {
      "metadata": {
        "id": "gkRzr5pa0fzS",
        "colab_type": "code",
        "colab": {
          "base_uri": "https://localhost:8080/",
          "height": 35
        },
        "outputId": "2373427f-93f3-4dc4-83c5-81caeb22ede0"
      },
      "cell_type": "code",
      "source": [
        "np.mean(y_test.numpy() == predicted)"
      ],
      "execution_count": 31,
      "outputs": [
        {
          "output_type": "execute_result",
          "data": {
            "text/plain": [
              "0.8618"
            ]
          },
          "metadata": {
            "tags": []
          },
          "execution_count": 31
        }
      ]
    },
    {
      "metadata": {
        "id": "TLXkTwY06VoJ",
        "colab_type": "text"
      },
      "cell_type": "markdown",
      "source": [
        "### Exercise: adding more convolutional magic\n",
        "\n",
        "```\n",
        "model = torch.nn.Sequential(\n",
        "            Reshape(-1, 1, 28, 28),\n",
        "            torch.nn.Conv2d(in_channels=1,\n",
        "                            out_channels=8,\n",
        "                            kernel_size=3,\n",
        "                            padding=1),\n",
        "            torch.nn.Dropout(p=dropout_rate),\n",
        "            torch.nn.ELU(),\n",
        "            torch.nn.MaxPool2d(2),\n",
        "            torch.nn.Conv2d(in_channels=8,\n",
        "                            out_channels=16,\n",
        "                            kernel_size=3,\n",
        "                            padding=1),\n",
        "            torch.nn.Dropout(p=dropout_rate),\n",
        "            torch.nn.ELU(),\n",
        "            torch.nn.MaxPool2d(2),\n",
        "            torch.nn.Conv2d(in_channels=16,\n",
        "                            out_channels=32,\n",
        "                            kernel_size=3,\n",
        "                            padding=1),\n",
        "            torch.nn.Dropout(p=dropout_rate),\n",
        "            torch.nn.ELU(),\n",
        "            torch.nn.MaxPool2d(2, padding=1),\n",
        "            Reshape(-1, 512),\n",
        "            torch.nn.Linear(512, 10)\n",
        "        ).to(device)\n",
        "```\n"
      ]
    },
    {
      "metadata": {
        "id": "80PyR5aZ1QxN",
        "colab_type": "code",
        "colab": {}
      },
      "cell_type": "code",
      "source": [
        ""
      ],
      "execution_count": 0,
      "outputs": []
    }
  ]
}
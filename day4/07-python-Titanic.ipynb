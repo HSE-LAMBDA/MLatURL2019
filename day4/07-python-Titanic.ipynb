{
  "cells": [
    {
      "cell_type": "markdown",
      "source": [
        "A crash course in\n",
        "<b><font size=44px><center> Surviving Titanic</center></font></b>\n",
        "<img src='http://4.media.bustedtees.cvcdn.com/f/-/bustedtees.d6ab8f8f-a63a-45fd-acac-142e2c22.gif' width=400>\n",
        "<center> (with numpy and matplotlib)</center>\n",
        "\n",
        "---\n",
        "\nThis notebook's gonna teach you to use the basic data science stack for python: numpy, pandas, matplotlib and sklearn."
      ],
      "metadata": {}
    },
    {
      "cell_type": "markdown",
      "source": [
        "### Loading data with Pandas\n",
        "Pandas is a library that helps you load the data, prepare it and perform some lightweight analysis. The god object here is the `pandas.DataFrame` - a 2d table with batteries included. \n",
        "\n",
        "In the cell below we use it to read the data on the infamous titanic shipwreck.\n",
        "\n__please keep running all the code cells as you read__"
      ],
      "metadata": {}
    },
    {
      "cell_type": "code",
      "source": [
        "import math\n",
        "import pandas as pd\n",
        "data = pd.read_csv(\"../train.csv\", index_col='PassengerId') # this yields a pandas.DataFrame"
      ],
      "outputs": [],
      "execution_count": null,
      "metadata": {
        "collapsed": true
      }
    },
    {
      "cell_type": "code",
      "source": [
        "# Selecting rows\n",
        "head = data[:10]\n",
        "\nhead  #if you leave an expression at the end of a cell, jupyter will \"display\" it automatically"
      ],
      "outputs": [],
      "execution_count": null,
      "metadata": {}
    },
    {
      "cell_type": "markdown",
      "source": [
        "#### About the data\n",
        "Here's some of the columns\n",
        "* Name - a string with person's full name\n",
        "* Survived - 1 if a person survived the shipwreck, 0 otherwise.\n",
        "* Pclass - passenger class. Pclass == 3 is cheap'n'cheerful, Pclass == 1 is for moneybags.\n",
        "* Sex - a person's gender (in those good ol' times when there were just 2 of them)\n",
        "* Age - age in years, if available\n",
        "* Sibsp - number of siblings on a ship\n",
        "* Parch - number of parents on a ship\n",
        "* Fare - ticket cost\n",
        "* Embarked - port where the passenger embarked\n",
        " * C = Cherbourg; Q = Queenstown; S = Southampton"
      ],
      "metadata": {}
    },
    {
      "cell_type": "code",
      "source": [
        "# table dimensions\n",
        "print(\"len(data) = \",len(data))\n",
        "print(\"data.shape = \",data.shape)"
      ],
      "outputs": [],
      "execution_count": null,
      "metadata": {}
    },
    {
      "cell_type": "code",
      "source": [
        "# select a single row\n",
        "print(data.loc[4])"
      ],
      "outputs": [],
      "execution_count": null,
      "metadata": {}
    },
    {
      "cell_type": "code",
      "source": [
        "# select a single column.\n",
        "ages = data[\"Age\"]\n",
        "print(ages[:10])  # alternatively: data.Age"
      ],
      "outputs": [],
      "execution_count": null,
      "metadata": {}
    },
    {
      "cell_type": "code",
      "source": [
        "# select several columns and rows at once\n",
        "data.loc[5:10, (\"Fare\", \"Pclass\")]    # alternatively: data[[\"Fare\",\"Pclass\"]].loc[5:10]"
      ],
      "outputs": [],
      "execution_count": null,
      "metadata": {}
    },
    {
      "cell_type": "markdown",
      "source": [
        "## Your turn:\n"
      ],
      "metadata": {}
    },
    {
      "cell_type": "code",
      "source": [
        "# select passengers number 13 and 666 - did they survive?\n",
        "\n<YOUR CODE>"
      ],
      "outputs": [],
      "execution_count": null,
      "metadata": {
        "collapsed": true
      }
    },
    {
      "cell_type": "code",
      "source": [
        "# compute the overall survival rate (what fraction of passengers survived the shipwreck)\n",
        "\n<YOUR CODE>"
      ],
      "outputs": [],
      "execution_count": null,
      "metadata": {
        "collapsed": true
      }
    },
    {
      "cell_type": "markdown",
      "source": [
        "```\n",
        "\n",
        "```\n",
        "\n",
        "```\n",
        "\n",
        "```\n",
        "\n",
        "```\n",
        "\n",
        "```\n",
        "\n",
        "```\n",
        "\n",
        "```\n",
        "\n",
        "```\n",
        "\n",
        "```\n",
        "\n",
        "```\n",
        "\n",
        "```\n",
        "\n",
        "```\n",
        "\n",
        "```\n",
        "\n"
      ],
      "metadata": {}
    },
    {
      "cell_type": "markdown",
      "source": [
        "Pandas also has some basic data analysis tools. For one, you can quickly display statistical aggregates for each column using `.describe()`"
      ],
      "metadata": {}
    },
    {
      "cell_type": "code",
      "source": [
        "data.describe()"
      ],
      "outputs": [],
      "execution_count": null,
      "metadata": {
        "collapsed": true
      }
    },
    {
      "cell_type": "markdown",
      "source": [
        "Some columns contain __NaN__ values - this means that there is no data there. For example, passenger `#5` has unknown age. To simplify the future data analysis, we'll replace NaN values by using pandas `fillna` function.\n",
        "\n_Note: we do this so easily because it's a tutorial. In general, you think twice before you modify data like this._"
      ],
      "metadata": {}
    },
    {
      "cell_type": "code",
      "source": [
        "data.iloc[5]"
      ],
      "outputs": [],
      "execution_count": null,
      "metadata": {
        "collapsed": true
      }
    },
    {
      "cell_type": "code",
      "source": [
        "data['Age'] = data['Age'].fillna(value=data['Age'].mean())\n",
        "data['Fare'] = data['Fare'].fillna(value=data['Fare'].mean())"
      ],
      "outputs": [],
      "execution_count": null,
      "metadata": {
        "collapsed": true
      }
    },
    {
      "cell_type": "code",
      "source": [
        "data.iloc[5]"
      ],
      "outputs": [],
      "execution_count": null,
      "metadata": {
        "collapsed": true
      }
    },
    {
      "cell_type": "markdown",
      "source": [
        "More pandas: \n",
        "* A neat [tutorial](http://pandas.pydata.org/) from pydata\n",
        "* Official [tutorials](https://pandas.pydata.org/pandas-docs/stable/tutorials.html), including this [10 minutes to pandas](https://pandas.pydata.org/pandas-docs/stable/10min.html#min)\n",
        "* Bunch of cheat sheets awaits just one google query away from you (e.g. [basics](http://blog.yhat.com/static/img/datacamp-cheat.png), [combining datasets](https://pbs.twimg.com/media/C65MaMpVwAA3v0A.jpg) and so on). "
      ],
      "metadata": {}
    },
    {
      "cell_type": "markdown",
      "source": [
        "### Numpy and vectorized computing\n",
        "\n",
        "Almost any machine learning model requires some computational heavy lifting usually involving linear algebra problems. Unfortunately, raw python is terrible at this because each operation is interpreted at runtime. \n",
        "\nSo instead, we'll use `numpy` - a library that lets you run blazing fast computation with vectors, matrices and other tensors. Again, the god oject here is `numpy.ndarray`:"
      ],
      "metadata": {}
    },
    {
      "cell_type": "code",
      "source": [
        "import numpy as np\n",
        "\n",
        "a = np.array([1,2,3,4,5])\n",
        "b = np.array([5,4,3,2,1])\n",
        "print(\"a = \",a)\n",
        "print(\"b = \",b)\n",
        "\n",
        "# math and boolean operations can applied to each element of an array\n",
        "print(\"a + 1 =\", a + 1)\n",
        "print(\"a * 2 =\", a * 2)\n",
        "print(\"a == 2\", a == 2)\n",
        "# ... or corresponding elements of two (or more) arrays\n",
        "print(\"a + b =\",a + b)\n",
        "print(\"a * b =\",a * b)"
      ],
      "outputs": [],
      "execution_count": null,
      "metadata": {}
    },
    {
      "cell_type": "code",
      "source": [
        "# Your turn: compute half-products of a and b elements (halves of products)\n",
        "<YOUR CODE>"
      ],
      "outputs": [],
      "execution_count": null,
      "metadata": {
        "collapsed": true
      }
    },
    {
      "cell_type": "code",
      "source": [
        "# compute elementwise quotient between squared a and (b plus 1)\n",
        "<YOUR CODE>"
      ],
      "outputs": [],
      "execution_count": null,
      "metadata": {
        "collapsed": true
      }
    },
    {
      "cell_type": "markdown",
      "source": [
        "```\n",
        "\n",
        "```\n",
        "\n",
        "```\n",
        "\n",
        "```\n",
        "\n",
        "```\n",
        "\n",
        "```\n",
        "\n",
        "```\n",
        "\n",
        "```\n",
        "\n",
        "```\n",
        "\n",
        "```\n",
        "\n\n",
        "### How fast is it, harry?\n",
        "![img](https://img.buzzfeed.com/buzzfeed-static/static/2015-11/6/7/enhanced/webdr10/enhanced-buzz-22847-1446811476-0.jpg)\n",
        "\n",
        "Let's compare computation time for python and numpy\n",
        "* Two arrays of 10^6 elements\n",
        " * first - from 0 to 1 000 000\n",
        " * second - from 99 to 1 000 099\n",
        " \n",
        "* Computing:\n",
        " * elemwise sum\n",
        " * elemwise product\n",
        " * square root of first array\n",
        " * sum of all elements in the first array\n",
        " "
      ],
      "metadata": {}
    },
    {
      "cell_type": "code",
      "source": [
        "%%time \n",
        "# ^-- this \"magic\" measures and prints cell computation time\n",
        "\n",
        "# Option I: pure python\n",
        "arr_1 = range(1000000)\n",
        "arr_2 = range(99,1000099)\n",
        "\n\n",
        "a_sum = []\n",
        "a_prod = []\n",
        "sqrt_a1 = []\n",
        "for i in range(len(arr_1)):\n",
        "    a_sum.append(arr_1[i]+arr_2[i])\n",
        "    a_prod.append(arr_1[i]*arr_2[i])\n",
        "    a_sum.append(arr_1[i]**0.5)\n",
        "    \n",
        "arr_1_sum = sum(arr_1)\n"
      ],
      "outputs": [],
      "execution_count": null,
      "metadata": {
        "collapsed": true
      }
    },
    {
      "cell_type": "code",
      "source": [
        "%%time\n",
        "\n",
        "# Option II: start from python, convert to numpy\n",
        "arr_1 = range(1000000)\n",
        "arr_2 = range(99,1000099)\n",
        "\n",
        "arr_1, arr_2 = np.array(arr_1) , np.array(arr_2)\n",
        "\n\n",
        "a_sum = arr_1 + arr_2\n",
        "a_prod = arr_1 * arr_2\n",
        "sqrt_a1 = arr_1 ** .5\n",
        "arr_1_sum = arr_1.sum()\n"
      ],
      "outputs": [],
      "execution_count": null,
      "metadata": {
        "collapsed": true
      }
    },
    {
      "cell_type": "code",
      "source": [
        "%%time\n",
        "\n",
        "# Option III: pure numpy\n",
        "arr_1 = np.arange(1000000)\n",
        "arr_2 = np.arange(99,1000099)\n",
        "\n",
        "a_sum = arr_1 + arr_2\n",
        "a_prod = arr_1 * arr_2\n",
        "sqrt_a1 = arr_1 ** .5\n",
        "arr_1_sum = arr_1.sum()\n"
      ],
      "outputs": [],
      "execution_count": null,
      "metadata": {
        "collapsed": true
      }
    },
    {
      "cell_type": "markdown",
      "source": [
        "If you want more serious benchmarks, take a look at [this](http://brilliantlywrong.blogspot.ru/2015/01/benchmarks-of-speed-numpy-vs-all.html)."
      ],
      "metadata": {}
    },
    {
      "cell_type": "markdown",
      "source": [
        "```\n",
        "\n",
        "```\n",
        "\n",
        "```\n",
        "\n",
        "```\n",
        "\n",
        "```\n",
        "\n",
        "```\n",
        "\n",
        "```\n",
        "\n",
        "```\n",
        "\n",
        "```\n",
        "\n",
        "```\n",
        "\n",
        "```\n",
        "\n",
        "```\n",
        "\n",
        "```\n",
        "\n",
        "```\n",
        "\n\nThere's also a bunch of pre-implemented operations including logarithms, trigonometry, vector/matrix products and aggregations."
      ],
      "metadata": {}
    },
    {
      "cell_type": "code",
      "source": [
        "a = np.array([1,2,3,4,5])\n",
        "b = np.array([5,4,3,2,1])\n",
        "print(\"numpy.sum(a) = \", np.sum(a))\n",
        "print(\"numpy.mean(a) = \", np.mean(a))\n",
        "print(\"numpy.min(a) = \",  np.min(a))\n",
        "print(\"numpy.argmin(b) = \", np.argmin(b))  # index of minimal element\n",
        "print(\"numpy.dot(a,b) = \", np.dot(a, b))      # dot product. Also used for matrix/tensor multiplication\n",
        "print(\"numpy.unique(['male','male','female','female','male']) = \", np.unique(['male','male','female','female','male']))\n",
        "\n# and tons of other stuff. see http://bit.ly/2u5q430 ."
      ],
      "outputs": [],
      "execution_count": null,
      "metadata": {}
    },
    {
      "cell_type": "markdown",
      "source": [
        "The important part: all this functionality works with dataframes:"
      ],
      "metadata": {}
    },
    {
      "cell_type": "code",
      "source": [
        "print(\"Max ticket price: \", np.max(data[\"Fare\"]))\n",
        "print(\"\\nThe guy who paid the most:\\n\", data.loc[np.argmax(data[\"Fare\"])])"
      ],
      "outputs": [],
      "execution_count": null,
      "metadata": {}
    },
    {
      "cell_type": "code",
      "source": [
        "# your code: compute mean passenger age and the oldest guy on the ship\n",
        "<YOUR CODE>"
      ],
      "outputs": [],
      "execution_count": null,
      "metadata": {
        "collapsed": true
      }
    },
    {
      "cell_type": "code",
      "source": [
        "print(\"Boolean operations\")\n",
        "\n",
        "print('a = ', a)\n",
        "print('b = ', b)\n",
        "print(\"a > 2\", a > 2)\n",
        "print(\"numpy.logical_not(a>2) = \", np.logical_not(a>2))\n",
        "print(\"numpy.logical_and(a>2,b>2) = \", np.logical_and(a > 2,b > 2))\n",
        "print(\"numpy.logical_or(a>4,b<3) = \", np.logical_or(a > 2, b < 3))\n",
        "\n",
        "print(\"\\n shortcuts\")\n",
        "print(\"~(a > 2) = \", ~(a > 2))                    #logical_not(a > 2)\n",
        "print(\"(a > 2) & (b > 2) = \", (a > 2) & (b > 2))  #logical_and\n",
        "print(\"(a > 2) | (b < 3) = \", (a > 2) | (b < 3))  #logical_or"
      ],
      "outputs": [],
      "execution_count": null,
      "metadata": {}
    },
    {
      "cell_type": "markdown",
      "source": [
        "The final numpy feature we'll need is indexing: selecting elements from an array. \n",
        "Aside from python indexes and slices (e.g. a[1:4]), numpy also allows you to select several elements at once."
      ],
      "metadata": {}
    },
    {
      "cell_type": "code",
      "source": [
        "a = np.array([0, 1, 4, 9, 16, 25])\n",
        "ix = np.array([1,2,3])\n",
        "print(\"a = \", a)\n",
        "print(\"Select by element index\")\n",
        "print(\"a[[1,2,5]] = \", a[ix])\n",
        "\n",
        "print(\"\\nSelect by boolean mask\")\n",
        "print(\"a[a > 5] = \", a[a > 5])     # select all elementts in a that are greater than 5\n",
        "print(\"(a % 2 == 0) =\",a % 2 == 0) # True for even, False for odd\n",
        "print(\"a[a > 3] =\", a[a % 2 == 0]) # select all elements in a that are even\n",
        "\n\n",
        "print(\"data[(data['Age'] < 18) & (data['Sex'] == 'male')] = (below)\") # select male children\n",
        "data[(data['Age'] < 18) & (data['Sex'] == 'male')]"
      ],
      "outputs": [],
      "execution_count": null,
      "metadata": {}
    },
    {
      "cell_type": "markdown",
      "source": [
        "### Your turn\n",
        "\nUse numpy and pandas to answer a few questions about data"
      ],
      "metadata": {}
    },
    {
      "cell_type": "code",
      "source": [
        "# who on average paid more for their ticket, men or women?\n",
        "\n",
        "mean_fare_men = <YOUR CODE>\n",
        "mean_fare_women = <YOUR CODE>\n",
        "\nprint(mean_fare_men, mean_fare_women)"
      ],
      "outputs": [],
      "execution_count": null,
      "metadata": {
        "collapsed": true
      }
    },
    {
      "cell_type": "code",
      "source": [
        "# who is more likely to survive: a child (<18 yo) or an adult?\n",
        "\n",
        "child_survival_rate = <YOUR CODE>\n",
        "adult_survival_rate = <YOUR CODE>\n",
        "\nprint(child_survival_rate, adult_survival_rate)"
      ],
      "outputs": [],
      "execution_count": null,
      "metadata": {
        "collapsed": true
      }
    },
    {
      "cell_type": "markdown",
      "source": [
        "## Visualisation\n",
        "\n",
        "Using python to visualize the data is covered by yet another library: `matplotlib`.\n",
        "\nJust like python itself, matplotlib has an awesome tendency of keeping simple things simple while still allowing you to write complicated stuff with convenience (e.g. super-detailed plots or custom animations)."
      ],
      "metadata": {}
    },
    {
      "cell_type": "code",
      "source": [
        "import matplotlib.pyplot as plt\n",
        "%matplotlib inline  \n",
        "# ^-- this \"magic\" tells all future matplotlib plots to be drawn inside notebook and not in a separate window.\n"
      ],
      "outputs": [],
      "execution_count": null,
      "metadata": {
        "scrolled": true
      }
    },
    {
      "cell_type": "code",
      "source": [
        "# plot a histogram of age and a histogram of ticket fares on separate plots\n",
        "\n",
        "<YOUR CODE>\n",
        "\n#bonus: use tab shift-tab to see if there is a way to draw a 2D histogram of age vs fare."
      ],
      "outputs": [],
      "execution_count": null,
      "metadata": {
        "collapsed": true
      }
    },
    {
      "cell_type": "code",
      "source": [
        "# make a scatter plot of passenger age vs ticket fare\n",
        "\n",
        "<YOUR CODE>\n",
        "\n# kudos if you add separate colors for men and women"
      ],
      "outputs": [],
      "execution_count": null,
      "metadata": {
        "collapsed": true
      }
    },
    {
      "cell_type": "markdown",
      "source": [
        "* Extended [tutorial](https://matplotlib.org/2.0.2/users/pyplot_tutorial.html)\n",
        "* A [cheat sheet](http://bit.ly/2koHxNF)"
      ],
      "metadata": {}
    },
    {
      "cell_type": "markdown",
      "source": [
        "### Machine learning with scikit-learn\n",
        "\n",
        "<img src='https://imgs.xkcd.com/comics/machine_learning.png' width=320px>\n",
        "\n",
        "Scikit-learn is _the_ tool for simple machine learning pipelines. \n",
        "\n",
        "It's a single library that unites a whole bunch of models under the common interface:\n",
        "* Create:__ `model = sklearn.whatever.ModelNameHere(parameters_if_any)`__\n",
        "* Train:__ `model.fit(X,y)`__\n",
        "* Predict:__ `model.predict(X_test)`__\n",
        "\nIt also contains utilities for feature extraction, quality estimation or cross-validation."
      ],
      "metadata": {}
    },
    {
      "cell_type": "code",
      "source": [
        "from sklearn.ensemble import RandomForestClassifier\n",
        "from sklearn.metrics import accuracy_score\n",
        "\n",
        "features = data[[\"Fare\", \"SibSp\"]].copy()\n",
        "answers = data[\"Survived\"]\n",
        "\n",
        "model = RandomForestClassifier(n_estimators=100)\n",
        "model.fit(features[:-100], answers[:-100])\n",
        "\n",
        "test_predictions = model.predict(features[-100:])\n",
        "print(\"Test accuracy:\", accuracy_score(answers[-100:], test_predictions))"
      ],
      "outputs": [],
      "execution_count": null,
      "metadata": {}
    },
    {
      "cell_type": "markdown",
      "source": [
        "Final quest: add more features to achieve accuracy of at least 0.80\n",
        "\n",
        "__Hint:__ for string features like \"Sex\" or \"Embarked\" you will have to compute some kind of numeric representation.\n",
        "For example, 1 if male and 0 if female or vice versa \n",
        "\n__Hint II:__ you can use `model.feature_importances_` to get a hint on how much did it rely each of your features."
      ],
      "metadata": {}
    },
    {
      "cell_type": "markdown",
      "source": [
        "* Sklearn [tutorials](http://scikit-learn.org/stable/tutorial/index.html)\n",
        "* Sklearn [examples](http://scikit-learn.org/stable/auto_examples/index.html)\n",
        "* SKlearn [cheat sheet](http://scikit-learn.org/stable/_static/ml_map.png)"
      ],
      "metadata": {}
    },
    {
      "cell_type": "markdown",
      "source": [
        "Okay, what we learned: to survive a shipwreck you need to become an underaged girl with parents on the ship. Try this next time you'll find yourself in a shipwreck"
      ],
      "metadata": {}
    }
  ],
  "metadata": {
    "kernelspec": {
      "name": "python3",
      "language": "python",
      "display_name": "Python 3"
    },
    "language_info": {
      "pygments_lexer": "ipython3",
      "mimetype": "text/x-python",
      "name": "python",
      "version": "3.5.2",
      "file_extension": ".py",
      "nbconvert_exporter": "python",
      "codemirror_mode": {
        "name": "ipython",
        "version": 3
      }
    },
    "kernel_info": {
      "name": "python3"
    },
    "nteract": {
      "version": "0.12.3"
    }
  },
  "nbformat": 4,
  "nbformat_minor": 1
}